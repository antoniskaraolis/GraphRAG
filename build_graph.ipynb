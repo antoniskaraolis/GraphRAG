{
 "cells": [
  {
   "cell_type": "code",
   "execution_count": null,
   "id": "1119b3cd",
   "metadata": {},
   "outputs": [],
   "source": [
    "import os\n",
    "import sys\n",
    "import networkx as nx\n",
    "from graphrag.data_processing import prepare_dataset, process_papers\n",
    "from graphrag.graph import build_graph\n",
    "from graphrag.embeddings import add_embeddings\n",
    "from graphrag.clustering import cluster_papers, cluster_authors"
   ]
  },
  {
   "cell_type": "code",
   "execution_count": null,
   "id": "18911f9f",
   "metadata": {},
   "outputs": [],
   "source": [
    "sys.path.insert(0, os.path.abspath(os.path.join(os.path.dirname(\"scripts/build_graph.py\"), '..')))"
   ]
  },
  {
   "cell_type": "code",
   "execution_count": null,
   "id": "bad9032c",
   "metadata": {},
   "outputs": [],
   "source": [
    "TARGETS = {\n",
    "    \"Computer Science\": 0.125,\n",
    "    \"Economics\": 0.125,\n",
    "    \"Electrical Engineering and Systems Science\": 0.125,\n",
    "    \"Mathematics\": 0.125,\n",
    "    \"Physics\": 0.125,\n",
    "    \"Quantitative Biology\": 0.125,\n",
    "    \"Quantitative Finance\": 0.125,\n",
    "    \"Statistics\": 0.125\n",
    "}\n",
    "TOTAL_PAPERS = 300"
   ]
  },
  {
   "cell_type": "code",
   "execution_count": null,
   "id": "2802396b",
   "metadata": {},
   "outputs": [],
   "source": [
    "input_data = \"data/raw/arxiv_data_10000.json\"\n",
    "sampled_data = \"data/processed/arxiv_data_test10k.json\"\n",
    "output_path = \"data/processed/graph.graphml\""
   ]
  },
  {
   "cell_type": "code",
   "execution_count": null,
   "id": "17cdc24e",
   "metadata": {},
   "outputs": [],
   "source": [
    "prepare_dataset(input_data, sampled_data, TARGETS, TOTAL_PAPERS)"
   ]
  },
  {
   "cell_type": "code",
   "execution_count": null,
   "id": "25e3410d",
   "metadata": {},
   "outputs": [],
   "source": [
    "csv_files = process_papers(sampled_data, \"data/processed/graph_data\")"
   ]
  },
  {
   "cell_type": "code",
   "execution_count": null,
   "id": "8a7d1500",
   "metadata": {},
   "outputs": [],
   "source": [
    "G = build_graph(csv_files)"
   ]
  },
  {
   "cell_type": "code",
   "execution_count": null,
   "id": "1b582e39",
   "metadata": {},
   "outputs": [],
   "source": [
    "G = add_embeddings(G)"
   ]
  },
  {
   "cell_type": "code",
   "execution_count": null,
   "id": "6de843e6",
   "metadata": {},
   "outputs": [],
   "source": [
    "G = cluster_papers(G)\n",
    "G = cluster_authors(G, method='hybrid')"
   ]
  },
  {
   "cell_type": "code",
   "execution_count": null,
   "id": "9c4a20c5",
   "metadata": {},
   "outputs": [],
   "source": [
    "nx.write_graphml(G, output_path)\n",
    "print(f\"Graph saved to {output_path}\")\n",
    "print(f\"Graph contains {len(G.nodes)} nodes and {len(G.edges)} edges\")"
   ]
  }
 ],
 "metadata": {
  "kernelspec": {
   "display_name": ".venv310",
   "language": "python",
   "name": "python3"
  },
  "language_info": {
   "codemirror_mode": {
    "name": "ipython",
    "version": 3
   },
   "file_extension": ".py",
   "mimetype": "text/x-python",
   "name": "python",
   "nbconvert_exporter": "python",
   "pygments_lexer": "ipython3",
   "version": "3.10.10"
  }
 },
 "nbformat": 4,
 "nbformat_minor": 5
}
